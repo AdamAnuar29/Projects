{
 "cells": [
  {
   "cell_type": "code",
   "execution_count": 24,
   "id": "c3bcb4a7",
   "metadata": {},
   "outputs": [
    {
     "name": "stdout",
     "output_type": "stream",
     "text": [
      "Height = 735, Width = 1100\n"
     ]
    }
   ],
   "source": [
    "import cv2\n",
    "#Reading the image\n",
    "image = cv2.imread('image.jpg')\n",
    "\n",
    "#Extracting the hight and width\n",
    "h, w = image.shape[:2]\n",
    "\n",
    "#Displaying h and w\n",
    "print(\"Height = {}, Width = {}\".format(h, w))\n"
   ]
  },
  {
   "cell_type": "code",
   "execution_count": 25,
   "id": "fca04992",
   "metadata": {},
   "outputs": [
    {
     "name": "stdout",
     "output_type": "stream",
     "text": [
      "R = 239, G = 200, B = 157\n",
      "\n",
      "R = 239\n"
     ]
    }
   ],
   "source": [
    "#Extracting the RGB values in the image\n",
    "(B,G,R) = image[100,100]\n",
    "\n",
    "#Display the pixel values\n",
    "print(\"R = {}, G = {}, B = {}\".format(R,G,B))\n",
    "\n",
    "#Can also extract a specific channel. For example since R is the third value red, use 2\n",
    "R = image[100,100,2]\n",
    "print(\"\\nR = {}\".format(R))"
   ]
  },
  {
   "cell_type": "code",
   "execution_count": 26,
   "id": "74323135",
   "metadata": {},
   "outputs": [
    {
     "data": {
      "text/plain": [
       "-1"
      ]
     },
     "execution_count": 26,
     "metadata": {},
     "output_type": "execute_result"
    }
   ],
   "source": [
    "#Extracting the Region of Interest\n",
    "roi = image[100 : 500, 200 : 700]\n",
    "cv2.imshow(\"ROI\" , roi)\n",
    "cv2.waitKey(0)"
   ]
  },
  {
   "cell_type": "code",
   "execution_count": 27,
   "id": "7c2f4d2e",
   "metadata": {},
   "outputs": [
    {
     "data": {
      "text/plain": [
       "-1"
      ]
     },
     "execution_count": 27,
     "metadata": {},
     "output_type": "execute_result"
    }
   ],
   "source": [
    "#Resizing the photo\n",
    "resize = cv2.resize(image,(500,500))\n",
    "cv2.imshow(\"Resized image: \", resize)\n",
    "cv2.waitKey(0)"
   ]
  },
  {
   "cell_type": "code",
   "execution_count": 28,
   "id": "03924894",
   "metadata": {},
   "outputs": [
    {
     "data": {
      "text/plain": [
       "-1"
      ]
     },
     "execution_count": 28,
     "metadata": {},
     "output_type": "execute_result"
    }
   ],
   "source": [
    "#Fixing aspect ratio\n",
    "ratio = 800 / w\n",
    "\n",
    "dim = (800, int(h * ratio))\n",
    "\n",
    "#Resizin\n",
    "resize_aspect = cv2.resize(image, dim)\n",
    "cv2.imshow(\"Resized Image\", resize_aspect)\n",
    "cv2.waitKey(0)\n"
   ]
  },
  {
   "cell_type": "code",
   "execution_count": 19,
   "id": "f6f0c902",
   "metadata": {},
   "outputs": [
    {
     "data": {
      "text/plain": [
       "-1"
      ]
     },
     "execution_count": 19,
     "metadata": {},
     "output_type": "execute_result"
    }
   ],
   "source": [
    "#Rectangle Drawing!\n",
    "\n",
    "#Copy the image\n",
    "image_copy = image.copy()\n",
    "\n",
    "#Rectangle function for rectangles\n",
    "rectangle = cv2.rectangle(image_copy, (1000, 500), (500,200), (255,0,0), 1)\n",
    "\n",
    "cv2.imshow(\"Rectangle image\", image_copy)\n",
    "cv2.waitKey(0)"
   ]
  },
  {
   "cell_type": "code",
   "execution_count": null,
   "id": "8b69adc1",
   "metadata": {},
   "outputs": [
    {
     "data": {
      "text/plain": [
       "-1"
      ]
     },
     "execution_count": 30,
     "metadata": {},
     "output_type": "execute_result"
    }
   ],
   "source": [
    "#Adding text\n",
    "image_copy = image.copy()\n",
    "\n",
    "text = cv2.putText(image_copy, \"OpenCV demo\", (200,200), cv2.FONT_HERSHEY_SIMPLEX, 2, (255,0,0), 2)\n",
    "cv2.imshow(\"Text in the picture!\", image_copy)\n",
    "cv2.waitKey(0)  \n"
   ]
  },
  {
   "cell_type": "code",
   "execution_count": 32,
   "id": "a92aeb25",
   "metadata": {},
   "outputs": [
    {
     "data": {
      "text/plain": [
       "True"
      ]
     },
     "execution_count": 32,
     "metadata": {},
     "output_type": "execute_result"
    }
   ],
   "source": [
    "#Saving the modified picture\n",
    "#directory = r'C:\\Users\\Adam\\Documents\\0 AI Projects\\1 Learning\\Machine Learning'\n",
    "cv2.imwrite(\"modified_image.jpg\", image_copy)"
   ]
  }
 ],
 "metadata": {
  "kernelspec": {
   "display_name": "OpenCV",
   "language": "python",
   "name": "python3"
  },
  "language_info": {
   "codemirror_mode": {
    "name": "ipython",
    "version": 3
   },
   "file_extension": ".py",
   "mimetype": "text/x-python",
   "name": "python",
   "nbconvert_exporter": "python",
   "pygments_lexer": "ipython3",
   "version": "3.12.10"
  }
 },
 "nbformat": 4,
 "nbformat_minor": 5
}
