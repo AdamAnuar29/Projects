{
 "cells": [
  {
   "cell_type": "code",
   "execution_count": 41,
   "id": "f19c6cad",
   "metadata": {},
   "outputs": [],
   "source": [
    "import cv2\n",
    "import numpy as np\n",
    "\n",
    "#Read image\n",
    "image = cv2.imread('eye_2.jpg', cv2.IMREAD_COLOR)\n"
   ]
  },
  {
   "cell_type": "code",
   "execution_count": 42,
   "id": "f11deb42",
   "metadata": {},
   "outputs": [],
   "source": [
    "#Convert to grayscale\n",
    "gray = cv2.cvtColor(image, cv2.COLOR_BGR2GRAY)"
   ]
  },
  {
   "cell_type": "code",
   "execution_count": 43,
   "id": "015ce83a",
   "metadata": {},
   "outputs": [],
   "source": [
    "#Blurring\n",
    "grey_blur = cv2.blur(gray, (3,3))"
   ]
  },
  {
   "cell_type": "code",
   "execution_count": null,
   "id": "81475e6e",
   "metadata": {},
   "outputs": [],
   "source": [
    "#Detecting circles using Hough transform\n",
    "#For higher accuracy, increase param1 and param2\n",
    "detected_circles = cv2.HoughCircles(grey_blur, cv2.HOUGH_GRADIENT, 1, 20, param1=80, param2= 40, minRadius=1, maxRadius= 40)"
   ]
  },
  {
   "cell_type": "code",
   "execution_count": 45,
   "id": "05e98399",
   "metadata": {},
   "outputs": [],
   "source": [
    "#drawing circles on detected circles\n",
    "if detected_circles is not None:\n",
    "\n",
    "    #Converting circles parameters a,b,r to integers\n",
    "    detected_circles = np.uint16(np.around(detected_circles))\n",
    "\n",
    "    for pt in detected_circles[0,:]:\n",
    "        a ,b ,r = pt[0], pt[1], pt[2]\n",
    "\n",
    "        #drawing the circumference\n",
    "        cv2.circle(image,(a,b),r, (0,255,0), 2)\n",
    "\n",
    "        #drawing the center point\n",
    "        cv2.circle(image, (a,b), 1, (0,0,255), 3)\n",
    "        cv2.imshow(\"Detected Circle\", image)\n",
    "        cv2.waitKey(0)\n"
   ]
  }
 ],
 "metadata": {
  "kernelspec": {
   "display_name": "OpenCV",
   "language": "python",
   "name": "python3"
  },
  "language_info": {
   "codemirror_mode": {
    "name": "ipython",
    "version": 3
   },
   "file_extension": ".py",
   "mimetype": "text/x-python",
   "name": "python",
   "nbconvert_exporter": "python",
   "pygments_lexer": "ipython3",
   "version": "3.12.10"
  }
 },
 "nbformat": 4,
 "nbformat_minor": 5
}
